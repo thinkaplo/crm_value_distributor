{
 "cells": [
  {
   "cell_type": "markdown",
   "id": "3c3c5538-2262-4572-ba0a-6960cfef751a",
   "metadata": {},
   "source": [
    "# **Value distributor** 🧮\n",
    "\n",
    "The following script needs as input a **.csv** file with the following column names:\n",
    "\n",
    "| **Column name** | **Description**           | **Format** |\n",
    "|-------------|-----------------------|--------|\n",
    "| id          | unique id of the deal | any |\n",
    "| stage       | stage of sales funnel | text|\n",
    "| close_date  | date of deal sign | ISO8601 Date |\n",
    "| start_date | start date of the deal | ISO8601 Date |\n",
    "| end_date | end date of the deal | ISO8601 Date |\n",
    "| value | value of the deal | float64 |\n",
    "| product | name or id of the product | any |\n",
    "\n",
    "This structure is common to CRM applications in SaaS or project company. And the purpose of the script is to distribute all the value of the deal proportionally on each month during its duration. This can be used in financial forecast and budgeting exercises. \n",
    "\n",
    "The exercise works if the close_date happens before the start_date and the stage of the deal is not 'Deal lost'. To change these restrictions or naming of the columns, go to the file functions.py directly.\n",
    "\n",
    "#### **Packages and modules used:**"
   ]
  },
  {
   "cell_type": "code",
   "execution_count": 48,
   "id": "1d2e87f8-81ac-4c1c-ac25-1de8654e58d8",
   "metadata": {},
   "outputs": [],
   "source": [
    "import pandas as pd\n",
    "from functions import *"
   ]
  },
  {
   "cell_type": "markdown",
   "id": "fcc6274e-c3a8-4480-9136-231403892fd5",
   "metadata": {},
   "source": [
    "#### **Reading the csv file:**\n",
    "In order to make the distributor function work, the **.csv** has to be defined as a list of dictionaries. The function read_csv from the *functions.py* takes the file and returns that list of dictionaries."
   ]
  },
  {
   "cell_type": "code",
   "execution_count": 49,
   "id": "9dbe1ab7-756d-4bd9-9f51-9ff9ab830cc7",
   "metadata": {},
   "outputs": [],
   "source": [
    "data = read_csv('data_sample.csv')\n",
    "result = pd.DataFrame(columns=['month','value','id','product'])"
   ]
  },
  {
   "cell_type": "markdown",
   "id": "3edcbe5c-0108-46cc-9191-f6fe32915254",
   "metadata": {},
   "source": [
    "#### **Running the distributor function:**\n",
    "For each deal in the **.csv*** file, the function will create a set of rows for each month during the duration of the deal, distributing the value based on the number of days of each month until the deal is totally paid."
   ]
  },
  {
   "cell_type": "code",
   "execution_count": 50,
   "id": "1fcbfd86-b68c-4657-bf32-bca684b67412",
   "metadata": {},
   "outputs": [],
   "source": [
    "for i in range(0,len(data)):\n",
    "    df = pd.DataFrame(distributor(data[i]))\n",
    "    result = pd.concat([result,df],ignore_index=True)"
   ]
  },
  {
   "cell_type": "markdown",
   "id": "2dbe691a-388b-4bae-8a1e-7050bb405e27",
   "metadata": {},
   "source": [
    "#### **Verifying the results:**\n",
    "To know that the deal is properly distributed, the sum of values of the result and the input must be the same. Also the values must be distributed during the duration of the deal."
   ]
  },
  {
   "cell_type": "code",
   "execution_count": 51,
   "id": "d42d17ba-6e5e-481e-8413-b346ff0b2636",
   "metadata": {},
   "outputs": [],
   "source": [
    "input = pd.DataFrame(data)\n",
    "output = result.groupby(['id'],as_index=False).agg({'value':'sum'})"
   ]
  },
  {
   "cell_type": "code",
   "execution_count": 52,
   "id": "26f46066-01cc-4e80-b819-8da174efdb32",
   "metadata": {},
   "outputs": [
    {
     "data": {
      "text/html": [
       "<div>\n",
       "<style scoped>\n",
       "    .dataframe tbody tr th:only-of-type {\n",
       "        vertical-align: middle;\n",
       "    }\n",
       "\n",
       "    .dataframe tbody tr th {\n",
       "        vertical-align: top;\n",
       "    }\n",
       "\n",
       "    .dataframe thead th {\n",
       "        text-align: right;\n",
       "    }\n",
       "</style>\n",
       "<table border=\"1\" class=\"dataframe\">\n",
       "  <thead>\n",
       "    <tr style=\"text-align: right;\">\n",
       "      <th></th>\n",
       "      <th>month</th>\n",
       "      <th>value</th>\n",
       "      <th>id</th>\n",
       "      <th>product</th>\n",
       "    </tr>\n",
       "  </thead>\n",
       "  <tbody>\n",
       "    <tr>\n",
       "      <th>0</th>\n",
       "      <td>2022-04-30</td>\n",
       "      <td>8264.784483</td>\n",
       "      <td>1</td>\n",
       "      <td>prod1</td>\n",
       "    </tr>\n",
       "    <tr>\n",
       "      <th>1</th>\n",
       "      <td>2022-05-31</td>\n",
       "      <td>15071.077586</td>\n",
       "      <td>1</td>\n",
       "      <td>prod1</td>\n",
       "    </tr>\n",
       "    <tr>\n",
       "      <th>2</th>\n",
       "      <td>2022-06-30</td>\n",
       "      <td>14584.913793</td>\n",
       "      <td>1</td>\n",
       "      <td>prod1</td>\n",
       "    </tr>\n",
       "    <tr>\n",
       "      <th>3</th>\n",
       "      <td>2022-07-31</td>\n",
       "      <td>15071.077586</td>\n",
       "      <td>1</td>\n",
       "      <td>prod1</td>\n",
       "    </tr>\n",
       "    <tr>\n",
       "      <th>4</th>\n",
       "      <td>2022-08-31</td>\n",
       "      <td>15071.077586</td>\n",
       "      <td>1</td>\n",
       "      <td>prod1</td>\n",
       "    </tr>\n",
       "    <tr>\n",
       "      <th>5</th>\n",
       "      <td>2022-09-30</td>\n",
       "      <td>14584.913793</td>\n",
       "      <td>1</td>\n",
       "      <td>prod1</td>\n",
       "    </tr>\n",
       "    <tr>\n",
       "      <th>6</th>\n",
       "      <td>2022-10-31</td>\n",
       "      <td>15071.077586</td>\n",
       "      <td>1</td>\n",
       "      <td>prod1</td>\n",
       "    </tr>\n",
       "    <tr>\n",
       "      <th>7</th>\n",
       "      <td>2022-11-30</td>\n",
       "      <td>14584.913793</td>\n",
       "      <td>1</td>\n",
       "      <td>prod1</td>\n",
       "    </tr>\n",
       "    <tr>\n",
       "      <th>8</th>\n",
       "      <td>2022-12-31</td>\n",
       "      <td>486.163793</td>\n",
       "      <td>1</td>\n",
       "      <td>prod1</td>\n",
       "    </tr>\n",
       "    <tr>\n",
       "      <th>9</th>\n",
       "      <td>2022-07-31</td>\n",
       "      <td>5119.277778</td>\n",
       "      <td>3</td>\n",
       "      <td>prod2</td>\n",
       "    </tr>\n",
       "    <tr>\n",
       "      <th>10</th>\n",
       "      <td>2022-08-31</td>\n",
       "      <td>14427.055556</td>\n",
       "      <td>3</td>\n",
       "      <td>prod2</td>\n",
       "    </tr>\n",
       "    <tr>\n",
       "      <th>11</th>\n",
       "      <td>2022-09-30</td>\n",
       "      <td>13961.666667</td>\n",
       "      <td>3</td>\n",
       "      <td>prod2</td>\n",
       "    </tr>\n",
       "  </tbody>\n",
       "</table>\n",
       "</div>"
      ],
      "text/plain": [
       "         month         value id product\n",
       "0   2022-04-30   8264.784483  1   prod1\n",
       "1   2022-05-31  15071.077586  1   prod1\n",
       "2   2022-06-30  14584.913793  1   prod1\n",
       "3   2022-07-31  15071.077586  1   prod1\n",
       "4   2022-08-31  15071.077586  1   prod1\n",
       "5   2022-09-30  14584.913793  1   prod1\n",
       "6   2022-10-31  15071.077586  1   prod1\n",
       "7   2022-11-30  14584.913793  1   prod1\n",
       "8   2022-12-31    486.163793  1   prod1\n",
       "9   2022-07-31   5119.277778  3   prod2\n",
       "10  2022-08-31  14427.055556  3   prod2\n",
       "11  2022-09-30  13961.666667  3   prod2"
      ]
     },
     "execution_count": 52,
     "metadata": {},
     "output_type": "execute_result"
    }
   ],
   "source": [
    "result"
   ]
  },
  {
   "cell_type": "code",
   "execution_count": 46,
   "id": "4a9e2b9a-7789-4954-afe8-6c9d45a4e852",
   "metadata": {},
   "outputs": [
    {
     "data": {
      "text/html": [
       "<div>\n",
       "<style scoped>\n",
       "    .dataframe tbody tr th:only-of-type {\n",
       "        vertical-align: middle;\n",
       "    }\n",
       "\n",
       "    .dataframe tbody tr th {\n",
       "        vertical-align: top;\n",
       "    }\n",
       "\n",
       "    .dataframe thead th {\n",
       "        text-align: right;\n",
       "    }\n",
       "</style>\n",
       "<table border=\"1\" class=\"dataframe\">\n",
       "  <thead>\n",
       "    <tr style=\"text-align: right;\">\n",
       "      <th></th>\n",
       "      <th>id</th>\n",
       "      <th>stage</th>\n",
       "      <th>close_date</th>\n",
       "      <th>start_date</th>\n",
       "      <th>end_date</th>\n",
       "      <th>value</th>\n",
       "      <th>product</th>\n",
       "    </tr>\n",
       "  </thead>\n",
       "  <tbody>\n",
       "    <tr>\n",
       "      <th>0</th>\n",
       "      <td>1</td>\n",
       "      <td>Deal Won</td>\n",
       "      <td>2022-04-05</td>\n",
       "      <td>2022-04-13</td>\n",
       "      <td>2022-12-01</td>\n",
       "      <td>112790</td>\n",
       "      <td>prod1</td>\n",
       "    </tr>\n",
       "    <tr>\n",
       "      <th>1</th>\n",
       "      <td>2</td>\n",
       "      <td>Deal lost</td>\n",
       "      <td>2022-05-23</td>\n",
       "      <td>2022-06-23</td>\n",
       "      <td>2022-09-30</td>\n",
       "      <td>57040</td>\n",
       "      <td>prod1</td>\n",
       "    </tr>\n",
       "    <tr>\n",
       "      <th>2</th>\n",
       "      <td>3</td>\n",
       "      <td>Evaluation</td>\n",
       "      <td>2022-03-23</td>\n",
       "      <td>2022-07-20</td>\n",
       "      <td>2022-09-30</td>\n",
       "      <td>33508</td>\n",
       "      <td>prod2</td>\n",
       "    </tr>\n",
       "  </tbody>\n",
       "</table>\n",
       "</div>"
      ],
      "text/plain": [
       "  id       stage  close_date  start_date    end_date   value product\n",
       "0  1    Deal Won  2022-04-05  2022-04-13  2022-12-01  112790   prod1\n",
       "1  2   Deal lost  2022-05-23  2022-06-23  2022-09-30   57040   prod1\n",
       "2  3  Evaluation  2022-03-23  2022-07-20  2022-09-30   33508   prod2"
      ]
     },
     "execution_count": 46,
     "metadata": {},
     "output_type": "execute_result"
    }
   ],
   "source": [
    "input"
   ]
  },
  {
   "cell_type": "code",
   "execution_count": 45,
   "id": "1b91398d-81e0-498d-889f-f9ae04f44c48",
   "metadata": {},
   "outputs": [
    {
     "data": {
      "text/html": [
       "<div>\n",
       "<style scoped>\n",
       "    .dataframe tbody tr th:only-of-type {\n",
       "        vertical-align: middle;\n",
       "    }\n",
       "\n",
       "    .dataframe tbody tr th {\n",
       "        vertical-align: top;\n",
       "    }\n",
       "\n",
       "    .dataframe thead th {\n",
       "        text-align: right;\n",
       "    }\n",
       "</style>\n",
       "<table border=\"1\" class=\"dataframe\">\n",
       "  <thead>\n",
       "    <tr style=\"text-align: right;\">\n",
       "      <th></th>\n",
       "      <th>id</th>\n",
       "      <th>value</th>\n",
       "    </tr>\n",
       "  </thead>\n",
       "  <tbody>\n",
       "    <tr>\n",
       "      <th>0</th>\n",
       "      <td>1</td>\n",
       "      <td>112790</td>\n",
       "    </tr>\n",
       "    <tr>\n",
       "      <th>1</th>\n",
       "      <td>2</td>\n",
       "      <td>57040</td>\n",
       "    </tr>\n",
       "    <tr>\n",
       "      <th>2</th>\n",
       "      <td>3</td>\n",
       "      <td>33508</td>\n",
       "    </tr>\n",
       "  </tbody>\n",
       "</table>\n",
       "</div>"
      ],
      "text/plain": [
       "  id   value\n",
       "0  1  112790\n",
       "1  2   57040\n",
       "2  3   33508"
      ]
     },
     "execution_count": 45,
     "metadata": {},
     "output_type": "execute_result"
    }
   ],
   "source": [
    "input[['id','value']]"
   ]
  },
  {
   "cell_type": "code",
   "execution_count": 40,
   "id": "d25dce9b-bff3-4be5-9336-ff21e34f286d",
   "metadata": {},
   "outputs": [
    {
     "data": {
      "text/html": [
       "<div>\n",
       "<style scoped>\n",
       "    .dataframe tbody tr th:only-of-type {\n",
       "        vertical-align: middle;\n",
       "    }\n",
       "\n",
       "    .dataframe tbody tr th {\n",
       "        vertical-align: top;\n",
       "    }\n",
       "\n",
       "    .dataframe thead th {\n",
       "        text-align: right;\n",
       "    }\n",
       "</style>\n",
       "<table border=\"1\" class=\"dataframe\">\n",
       "  <thead>\n",
       "    <tr style=\"text-align: right;\">\n",
       "      <th></th>\n",
       "      <th>id</th>\n",
       "      <th>value</th>\n",
       "    </tr>\n",
       "  </thead>\n",
       "  <tbody>\n",
       "    <tr>\n",
       "      <th>0</th>\n",
       "      <td>1</td>\n",
       "      <td>112790.0</td>\n",
       "    </tr>\n",
       "    <tr>\n",
       "      <th>1</th>\n",
       "      <td>3</td>\n",
       "      <td>33508.0</td>\n",
       "    </tr>\n",
       "  </tbody>\n",
       "</table>\n",
       "</div>"
      ],
      "text/plain": [
       "  id     value\n",
       "0  1  112790.0\n",
       "1  3   33508.0"
      ]
     },
     "execution_count": 40,
     "metadata": {},
     "output_type": "execute_result"
    }
   ],
   "source": [
    "output"
   ]
  },
  {
   "cell_type": "code",
   "execution_count": null,
   "id": "8e345f29-2d9f-4457-afbe-a7195a2176ca",
   "metadata": {},
   "outputs": [],
   "source": []
  }
 ],
 "metadata": {
  "kernelspec": {
   "display_name": "Python 3 (ipykernel)",
   "language": "python",
   "name": "python3"
  },
  "language_info": {
   "codemirror_mode": {
    "name": "ipython",
    "version": 3
   },
   "file_extension": ".py",
   "mimetype": "text/x-python",
   "name": "python",
   "nbconvert_exporter": "python",
   "pygments_lexer": "ipython3",
   "version": "3.11.4"
  }
 },
 "nbformat": 4,
 "nbformat_minor": 5
}
